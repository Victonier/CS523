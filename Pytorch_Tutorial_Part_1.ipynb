{
  "cells": [
    {
      "cell_type": "markdown",
      "metadata": {
        "id": "view-in-github",
        "colab_type": "text"
      },
      "source": [
        "<a href=\"https://colab.research.google.com/github/Victonier/CS523/blob/main/Pytorch_Tutorial_Part_1.ipynb\" target=\"_parent\"><img src=\"https://colab.research.google.com/assets/colab-badge.svg\" alt=\"Open In Colab\"/></a>"
      ]
    },
    {
      "cell_type": "code",
      "execution_count": null,
      "metadata": {
        "id": "QwkkRFT6cGtn"
      },
      "outputs": [],
      "source": [
        "from __future__ import print_function\n",
        "import torch\n",
        "%matplotlib inline"
      ]
    },
    {
      "cell_type": "markdown",
      "metadata": {
        "id": "wVn6zPFDcGtw"
      },
      "source": [
        "\n",
        "What is PyTorch?\n",
        "================\n",
        "\n",
        "It’s a Python-based scientific computing package targeted at two sets of\n",
        "audiences:\n",
        "\n",
        "-  A replacement for NumPy to use the power of GPUs\n",
        "-  a deep learning research platform that provides maximum flexibility\n",
        "   and speed\n",
        "\n"
      ]
    },
    {
      "cell_type": "markdown",
      "metadata": {
        "id": "1sXAX-BfB4Gk"
      },
      "source": [
        "Section 1: Tensors\n",
        "================\n",
        "Please refer: https://pytorch.org/docs/stable/tensors.html\n",
        "\n",
        "A torch.Tensor is a multi-dimensional matrix containing elements of a single data type.\n",
        "\n",
        "Tensors are similar to NumPy’s ndarrays, with the addition being that\n",
        "Tensors can also be used on a GPU to accelerate computing."
      ]
    },
    {
      "cell_type": "markdown",
      "metadata": {
        "id": "HZkGk7StcGt1"
      },
      "source": [
        "<b>Task 1: Constructing Tensors</b>\n",
        "\n",
        "a) Construct a 5x3 matrix, uninitialized:\n",
        "\n"
      ]
    },
    {
      "cell_type": "code",
      "execution_count": null,
      "metadata": {
        "colab": {
          "base_uri": "https://localhost:8080/"
        },
        "id": "fES0DhcrcGt3",
        "outputId": "b1db057f-2ffd-4693-b670-1108d03bda0c"
      },
      "outputs": [
        {
          "output_type": "stream",
          "name": "stdout",
          "text": [
            "tensor([[ 1.6399e-34,  0.0000e+00,  1.9021e-35],\n",
            "        [ 0.0000e+00, -1.3565e+11,  4.5820e-41],\n",
            "        [ 1.4013e-45,  0.0000e+00,  2.1019e-44],\n",
            "        [ 0.0000e+00,  0.0000e+00,  0.0000e+00],\n",
            "        [ 0.0000e+00,  0.0000e+00,  0.0000e+00]])\n"
          ]
        }
      ],
      "source": [
        "# The shape of the tensor is defined by the variable argument size\n",
        "# Tensor is initialized with garbage values\n",
        "x = torch.empty(5, 3)\n",
        "print(x)"
      ]
    },
    {
      "cell_type": "markdown",
      "metadata": {
        "id": "_LOf4Uj1cGt-"
      },
      "source": [
        "b) Construct a randomly initialized matrix:\n",
        "\n"
      ]
    },
    {
      "cell_type": "code",
      "execution_count": null,
      "metadata": {
        "colab": {
          "base_uri": "https://localhost:8080/"
        },
        "id": "Zl-c3-m7cGuA",
        "outputId": "65833e94-125a-4c8b-b043-c12fa6b239eb"
      },
      "outputs": [
        {
          "output_type": "stream",
          "name": "stdout",
          "text": [
            "tensor([[0.5912, 0.2074, 0.3439],\n",
            "        [0.2879, 0.1988, 0.4856],\n",
            "        [0.7823, 0.7591, 0.6336],\n",
            "        [0.8972, 0.7790, 0.0655],\n",
            "        [0.9163, 0.4170, 0.0775]])\n",
            "torch.Size([5, 3])\n"
          ]
        },
        {
          "output_type": "execute_result",
          "data": {
            "text/plain": [
              "torch.Size([5, 3])"
            ]
          },
          "metadata": {},
          "execution_count": 8
        }
      ],
      "source": [
        "x = torch.rand(5, 3)\n",
        "print(x)\n",
        "print(x.size())\n",
        "x.shape"
      ]
    },
    {
      "cell_type": "markdown",
      "metadata": {
        "id": "vcIW_M5FcGuE"
      },
      "source": [
        "c) Construct a matrix filled zeros and of dtype long:\n",
        "\n"
      ]
    },
    {
      "cell_type": "code",
      "execution_count": null,
      "metadata": {
        "colab": {
          "base_uri": "https://localhost:8080/"
        },
        "id": "tOKOfnL3cGuF",
        "outputId": "797c23e8-3b39-41f9-b0c3-94497399f032"
      },
      "outputs": [
        {
          "output_type": "stream",
          "name": "stdout",
          "text": [
            "tensor([[0, 0, 0],\n",
            "        [0, 0, 0],\n",
            "        [0, 0, 0],\n",
            "        [0, 0, 0],\n",
            "        [0, 0, 0]])\n"
          ]
        }
      ],
      "source": [
        "x = torch.zeros(5, 3, dtype=torch.long)\n",
        "print(x)"
      ]
    },
    {
      "cell_type": "markdown",
      "metadata": {
        "id": "E9QNEJuscGuL"
      },
      "source": [
        "d) Construct a tensor directly from data:\n",
        "\n"
      ]
    },
    {
      "cell_type": "code",
      "execution_count": null,
      "metadata": {
        "colab": {
          "base_uri": "https://localhost:8080/"
        },
        "id": "3azFb_E1cGuO",
        "outputId": "75657a55-c731-4e8e-e777-7624cd82885e"
      },
      "outputs": [
        {
          "output_type": "stream",
          "name": "stdout",
          "text": [
            "tensor([5.5000, 3.0000])\n"
          ]
        }
      ],
      "source": [
        "x = torch.tensor([5.5, 3])\n",
        "print(x)"
      ]
    },
    {
      "cell_type": "markdown",
      "metadata": {
        "id": "QsA8p-9rcGuU"
      },
      "source": [
        "e) Create a tensor based on an existing tensor. \n",
        "\n",
        "Note: These methods will reuse properties of the input tensor, e.g. dtype, unless new values are provided by user\n",
        "\n"
      ]
    },
    {
      "cell_type": "code",
      "execution_count": null,
      "metadata": {
        "colab": {
          "base_uri": "https://localhost:8080/"
        },
        "id": "OqaeMZqwcGuV",
        "outputId": "2236be9f-dad5-4a75-e147-ee67ab4a2d29"
      },
      "outputs": [
        {
          "output_type": "stream",
          "name": "stdout",
          "text": [
            "tensor([[1., 1., 1.],\n",
            "        [1., 1., 1.],\n",
            "        [1., 1., 1.],\n",
            "        [1., 1., 1.],\n",
            "        [1., 1., 1.]], dtype=torch.float64)\n",
            "tensor([[-0.1034, -0.6877,  0.2843],\n",
            "        [-0.3262,  1.0645,  0.7493],\n",
            "        [ 0.6175,  0.1917, -0.4022],\n",
            "        [-1.8715,  1.4590,  1.8939],\n",
            "        [-0.8562, -0.1459, -0.9315]])\n"
          ]
        }
      ],
      "source": [
        "x = x.new_ones(5, 3, dtype=torch.double)      # new_* methods take in sizes\n",
        "print(x)\n",
        "\n",
        "# Generates random values from Normal distribution\n",
        "# Uses the shape of the given tensor\n",
        "x = torch.randn_like(x, dtype=torch.float)    # override dtype!\n",
        "print(x)                                      # result has the same size"
      ]
    },
    {
      "cell_type": "markdown",
      "metadata": {
        "id": "v-PXCNe-cGuZ"
      },
      "source": [
        "<b>Task 2: Get the size of the tensor </b>\n",
        "\n",
        "Note: torch.Size is in fact a tuple, so it supports all tuple operations.\n",
        "\n"
      ]
    },
    {
      "cell_type": "code",
      "execution_count": null,
      "metadata": {
        "colab": {
          "base_uri": "https://localhost:8080/"
        },
        "id": "8H2jW6emcGue",
        "outputId": "7ed3a873-5c24-417a-bf28-d41d284fc92b"
      },
      "outputs": [
        {
          "output_type": "stream",
          "name": "stdout",
          "text": [
            "torch.Size([5, 3])\n"
          ]
        },
        {
          "output_type": "execute_result",
          "data": {
            "text/plain": [
              "torch.Size([5, 3])"
            ]
          },
          "metadata": {},
          "execution_count": 18
        }
      ],
      "source": [
        "print(x.size())\n",
        "# print(x.size())\n",
        "x.shape"
      ]
    },
    {
      "cell_type": "markdown",
      "metadata": {
        "id": "bbyRg4rscGuj"
      },
      "source": [
        "<b>Task 3: Operations</b>\n",
        "\n",
        "a) Addition: syntax 1\n",
        "\n"
      ]
    },
    {
      "cell_type": "code",
      "execution_count": null,
      "metadata": {
        "colab": {
          "base_uri": "https://localhost:8080/"
        },
        "id": "Rse0X18fcGuk",
        "outputId": "9a196af4-9d45-4255-b910-c48e4bc55574"
      },
      "outputs": [
        {
          "output_type": "stream",
          "name": "stdout",
          "text": [
            "tensor([[0.9180, 0.9165, 0.8618],\n",
            "        [0.8242, 0.1714, 1.0875],\n",
            "        [1.1863, 1.0715, 0.6796],\n",
            "        [1.0337, 1.1458, 1.6569],\n",
            "        [0.3050, 0.7076, 1.4855]])\n"
          ]
        }
      ],
      "source": [
        "p = torch.rand(5, 3)\n",
        "q = torch.rand(5, 3)\n",
        "print(p + q)"
      ]
    },
    {
      "cell_type": "markdown",
      "metadata": {
        "id": "mhl-HA6acGuo"
      },
      "source": [
        "b) Addition: syntax 2\n",
        "\n"
      ]
    },
    {
      "cell_type": "code",
      "execution_count": null,
      "metadata": {
        "colab": {
          "base_uri": "https://localhost:8080/"
        },
        "id": "udaT7GJwcGup",
        "outputId": "1cffa124-2554-49f0-e060-eb174002fda1"
      },
      "outputs": [
        {
          "output_type": "stream",
          "name": "stdout",
          "text": [
            "tensor([[0.9180, 0.9165, 0.8618],\n",
            "        [0.8242, 0.1714, 1.0875],\n",
            "        [1.1863, 1.0715, 0.6796],\n",
            "        [1.0337, 1.1458, 1.6569],\n",
            "        [0.3050, 0.7076, 1.4855]])\n"
          ]
        }
      ],
      "source": [
        "print(torch.add(p, q))"
      ]
    },
    {
      "cell_type": "markdown",
      "metadata": {
        "id": "_S3AUMpVcGuw"
      },
      "source": [
        "c) Addition: providing an output tensor as argument\n",
        "\n"
      ]
    },
    {
      "cell_type": "code",
      "execution_count": null,
      "metadata": {
        "colab": {
          "base_uri": "https://localhost:8080/"
        },
        "id": "lKtlQXY4cGuy",
        "outputId": "c26229b4-e2af-4509-c087-1db7aeba46fe"
      },
      "outputs": [
        {
          "output_type": "stream",
          "name": "stdout",
          "text": [
            "tensor([[0.9180, 0.9165, 0.8618],\n",
            "        [0.8242, 0.1714, 1.0875],\n",
            "        [1.1863, 1.0715, 0.6796],\n",
            "        [1.0337, 1.1458, 1.6569],\n",
            "        [0.3050, 0.7076, 1.4855]])\n"
          ]
        }
      ],
      "source": [
        "result = torch.empty(5, 3)\n",
        "torch.add(p, q, out=result)\n",
        "print(result)"
      ]
    },
    {
      "cell_type": "markdown",
      "metadata": {
        "id": "c1OBWtGccGu2"
      },
      "source": [
        "d) Addition: in-place\n",
        "\n"
      ]
    },
    {
      "cell_type": "code",
      "execution_count": null,
      "metadata": {
        "colab": {
          "base_uri": "https://localhost:8080/"
        },
        "id": "NfSJ-O4FcGu3",
        "outputId": "ef6841b5-7faa-4ce8-cc59-c9fa74e030ec"
      },
      "outputs": [
        {
          "output_type": "stream",
          "name": "stdout",
          "text": [
            "tensor([[0.9180, 0.9165, 0.8618],\n",
            "        [0.8242, 0.1714, 1.0875],\n",
            "        [1.1863, 1.0715, 0.6796],\n",
            "        [1.0337, 1.1458, 1.6569],\n",
            "        [0.3050, 0.7076, 1.4855]])\n"
          ]
        }
      ],
      "source": [
        "# adds x to y\n",
        "q.add_(p)\n",
        "print(q)"
      ]
    },
    {
      "cell_type": "markdown",
      "metadata": {
        "id": "3Ko8XWBNcGvC"
      },
      "source": [
        "Note: Any operation that mutates a tensor in-place is post-fixed with an ``_``.\n",
        "    For example: ``x.copy_(y)``, ``x.t_()``, will change ``x``.</p></div>\n",
        "\n",
        "<b>Task 4: Misc Operations </b>\n",
        "\n",
        "a) Indexing\n",
        "\n"
      ]
    },
    {
      "cell_type": "code",
      "execution_count": null,
      "metadata": {
        "colab": {
          "base_uri": "https://localhost:8080/"
        },
        "id": "y-pEad6VcGvD",
        "outputId": "836435fb-cd1e-481c-aaf7-18ea3b8be0d1"
      },
      "outputs": [
        {
          "output_type": "stream",
          "name": "stdout",
          "text": [
            "tensor([[0.9180, 0.9165, 0.8618],\n",
            "        [0.8242, 0.1714, 1.0875],\n",
            "        [1.1863, 1.0715, 0.6796],\n",
            "        [1.0337, 1.1458, 1.6569],\n",
            "        [0.3050, 0.7076, 1.4855]])\n",
            "tensor([0.9165, 0.1714, 1.0715, 1.1458, 0.7076])\n"
          ]
        }
      ],
      "source": [
        "print(result)\n",
        "print(result[:, 1])"
      ]
    },
    {
      "cell_type": "markdown",
      "metadata": {
        "id": "6LxXbp64cGvG"
      },
      "source": [
        "b) Resizing\n",
        "\n"
      ]
    },
    {
      "cell_type": "code",
      "execution_count": null,
      "metadata": {
        "colab": {
          "base_uri": "https://localhost:8080/"
        },
        "id": "f4viiwnWcGvH",
        "outputId": "53b4966c-ef40-4940-a08c-13c7e8a41ac6"
      },
      "outputs": [
        {
          "output_type": "stream",
          "name": "stdout",
          "text": [
            "torch.Size([4, 4]) torch.Size([16]) torch.Size([2, 8])\n"
          ]
        }
      ],
      "source": [
        "x = torch.randn(4, 4)\n",
        "y = x.view(16)\n",
        "z = x.view(-1, 8)  # the size -1 is inferred from other dimensions\n",
        "print(x.size(), y.size(), z.size())"
      ]
    },
    {
      "cell_type": "markdown",
      "metadata": {
        "id": "rwtFXhUOWNNR"
      },
      "source": [
        "c) Permute\n",
        "\n",
        "Used for image data where order of data is important"
      ]
    },
    {
      "cell_type": "code",
      "execution_count": null,
      "metadata": {
        "id": "i9SIOX3JWNNR",
        "outputId": "be0eca75-d167-4506-cdf4-43d324e80a40",
        "colab": {
          "base_uri": "https://localhost:8080/"
        }
      },
      "outputs": [
        {
          "output_type": "stream",
          "name": "stdout",
          "text": [
            "torch.Size([3, 224, 224]) torch.Size([224, 224, 3])\n"
          ]
        }
      ],
      "source": [
        "x = torch.randn(3,224,224)\n",
        "y = x.permute(1,2,0)\n",
        "print(x.size(), y.size())"
      ]
    },
    {
      "cell_type": "markdown",
      "metadata": {
        "id": "kMc8ggNLcGvJ"
      },
      "source": [
        "d) Accessing \n",
        "\n"
      ]
    },
    {
      "cell_type": "code",
      "execution_count": null,
      "metadata": {
        "colab": {
          "base_uri": "https://localhost:8080/"
        },
        "id": "e-7ghdv4cGvK",
        "outputId": "116d4583-d2a6-4b5d-e7fa-c5545302e8cd"
      },
      "outputs": [
        {
          "output_type": "stream",
          "name": "stdout",
          "text": [
            "tensor([-0.2117])\n",
            "-0.21173211932182312\n",
            "tensor([[ 1.1036,  0.0842],\n",
            "        [-1.6334,  0.7951]])\n",
            "[[1.1036202907562256, 0.08422975987195969], [-1.6334466934204102, 0.7951104640960693]]\n"
          ]
        }
      ],
      "source": [
        "x = torch.randn(1) # std norm dist vs rand: uniform [0,1)\n",
        "print(x)\n",
        "print(x.item()) # works for tensors with single value\n",
        "\n",
        "x = torch.randn(2, 2)\n",
        "print(x)\n",
        "print(x.tolist()) # works for tensors with multiple values"
      ]
    },
    {
      "cell_type": "markdown",
      "metadata": {
        "id": "O8ybKJCJcGvO"
      },
      "source": [
        "Section 2: NumPy \n",
        "------------\n",
        "\n",
        "Converting a Torch Tensor to a NumPy array and vice versa is a breeze.\n",
        "\n",
        "The Torch Tensor and NumPy array will share their underlying memory\n",
        "locations, and changing one will change the other.\n",
        "\n",
        "a) Converting a Torch Tensor to a NumPy Array\n",
        "\n",
        "\n"
      ]
    },
    {
      "cell_type": "code",
      "execution_count": null,
      "metadata": {
        "colab": {
          "base_uri": "https://localhost:8080/"
        },
        "id": "SDgj7KHocGvP",
        "outputId": "78f447dd-b1b2-4e1c-c02c-37959a680665"
      },
      "outputs": [
        {
          "output_type": "stream",
          "name": "stdout",
          "text": [
            "tensor([1., 1., 1., 1., 1.])\n"
          ]
        }
      ],
      "source": [
        "a = torch.ones(5)\n",
        "print(a)"
      ]
    },
    {
      "cell_type": "code",
      "execution_count": null,
      "metadata": {
        "colab": {
          "base_uri": "https://localhost:8080/"
        },
        "id": "pDy1GGxKcGvV",
        "outputId": "5c8b1bb5-6f96-4cf9-f8f6-372f8cab54d3"
      },
      "outputs": [
        {
          "output_type": "execute_result",
          "data": {
            "text/plain": [
              "array([1., 1., 1., 1., 1.], dtype=float32)"
            ]
          },
          "metadata": {},
          "execution_count": 40
        }
      ],
      "source": [
        "b = a.numpy()\n",
        "b"
      ]
    },
    {
      "cell_type": "markdown",
      "metadata": {
        "id": "4wAygthwcGvY"
      },
      "source": [
        "Note: See how the numpy array changed in value.\n",
        "\n"
      ]
    },
    {
      "cell_type": "code",
      "execution_count": null,
      "metadata": {
        "colab": {
          "base_uri": "https://localhost:8080/"
        },
        "id": "_Th_wa09cGvZ",
        "outputId": "cf573cb9-68e8-4628-f34c-9bc2594ba4b6"
      },
      "outputs": [
        {
          "output_type": "stream",
          "name": "stdout",
          "text": [
            "tensor([2., 2., 2., 2., 2.])\n",
            "[2. 2. 2. 2. 2.]\n"
          ]
        }
      ],
      "source": [
        "a.add_(1)\n",
        "print(a)\n",
        "print(b)"
      ]
    },
    {
      "cell_type": "markdown",
      "metadata": {
        "id": "13fXSwyQcGvd"
      },
      "source": [
        "b) Converting NumPy Array to Torch Tensor\n",
        "\n",
        "Note: see how changing the np array changed the Torch Tensor automatically\n",
        "\n"
      ]
    },
    {
      "cell_type": "code",
      "execution_count": null,
      "metadata": {
        "colab": {
          "base_uri": "https://localhost:8080/"
        },
        "id": "AFLuR6NBcGve",
        "outputId": "b0df3a4b-7240-496a-e0ee-ed5d7e6e09d0"
      },
      "outputs": [
        {
          "output_type": "stream",
          "name": "stdout",
          "text": [
            "[2. 2. 2. 2. 2.]\n",
            "tensor([2., 2., 2., 2., 2.], dtype=torch.float64)\n"
          ]
        }
      ],
      "source": [
        "import numpy as np\n",
        "a = np.ones(5)\n",
        "b = torch.from_numpy(a)\n",
        "np.add(a, 1, out=a)\n",
        "print(a)\n",
        "print(b)"
      ]
    },
    {
      "cell_type": "markdown",
      "metadata": {
        "id": "RFJIEWDPcGvk"
      },
      "source": [
        "All the Tensors on the CPU except a CharTensor support converting to\n",
        "NumPy and back.\n",
        "\n",
        "Section 3: CUDA Tensors\n",
        "------------\n",
        "\n",
        "Tensors can be moved onto any device using the ``.to`` method.\n",
        "\n"
      ]
    },
    {
      "cell_type": "code",
      "execution_count": null,
      "metadata": {
        "colab": {
          "base_uri": "https://localhost:8080/"
        },
        "id": "87UhfuZOcGvl",
        "outputId": "0a4db500-2896-48d8-e9d7-c531b0501692"
      },
      "outputs": [
        {
          "output_type": "stream",
          "name": "stdout",
          "text": [
            "tensor([[1.7038, 1.5289, 1.1912],\n",
            "        [1.9412, 1.0138, 1.8623],\n",
            "        [1.9674, 1.4602, 1.4017],\n",
            "        [1.2006, 1.5367, 1.5383],\n",
            "        [1.9503, 1.4044, 1.2570]], device='cuda:0')\n",
            "tensor([[1.7038, 1.5289, 1.1912],\n",
            "        [1.9412, 1.0138, 1.8623],\n",
            "        [1.9674, 1.4602, 1.4017],\n",
            "        [1.2006, 1.5367, 1.5383],\n",
            "        [1.9503, 1.4044, 1.2570]], dtype=torch.float64)\n"
          ]
        }
      ],
      "source": [
        "# let us run this cell only if CUDA is available\n",
        "# We will use ``torch.device`` objects to move tensors in and out of GPU\n",
        "# Devices available are 'cuda' and 'cpu'\n",
        "\n",
        "x = torch.rand(5,3)\n",
        "if torch.cuda.is_available():\n",
        "    device = torch.device(\"cuda\")          # a CUDA device object\n",
        "    y = torch.ones_like(x, device=device)  # directly create a tensor on GPU\n",
        "    x = x.to(device)                       # or just use strings ``.to(\"cuda\")``\n",
        "    z = x + y\n",
        "    print(z)\n",
        "    print(z.to(\"cpu\", torch.double))       # ``.to`` can also change dtype together!"
      ]
    },
    {
      "cell_type": "code",
      "execution_count": null,
      "metadata": {
        "id": "Oux9IruZDokZ"
      },
      "outputs": [],
      "source": []
    }
  ],
  "metadata": {
    "accelerator": "GPU",
    "colab": {
      "provenance": [],
      "gpuType": "T4",
      "include_colab_link": true
    },
    "kernelspec": {
      "display_name": "Python 3 (ipykernel)",
      "language": "python",
      "name": "python3"
    },
    "language_info": {
      "codemirror_mode": {
        "name": "ipython",
        "version": 3
      },
      "file_extension": ".py",
      "mimetype": "text/x-python",
      "name": "python",
      "nbconvert_exporter": "python",
      "pygments_lexer": "ipython3",
      "version": "3.9.7"
    },
    "gpuClass": "standard"
  },
  "nbformat": 4,
  "nbformat_minor": 0
}